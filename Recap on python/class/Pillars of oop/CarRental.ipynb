{
 "cells": [
  {
   "cell_type": "markdown",
   "metadata": {},
   "source": [
    "## Assignmnet"
   ]
  },
  {
   "cell_type": "code",
   "execution_count": 29,
   "metadata": {},
   "outputs": [
    {
     "name": "stdout",
     "output_type": "stream",
     "text": [
      "Red\n"
     ]
    }
   ],
   "source": [
    "class Vehicle:\n",
    "    def __init__(self,color):\n",
    "        self.color = color\n",
    "    def getcolor(self):\n",
    "        return self.color\n",
    "   \n",
    "    def tostring(self):\n",
    "        print(f\"This vehicle is {self.color}\")\n",
    "\n",
    "vehicle1 = Vehicle(\"Red\")\n",
    "print(vehicle1.getcolor())\n",
    "\n",
    "\n",
    "\n",
    "\n",
    "      "
   ]
  },
  {
   "cell_type": "markdown",
   "metadata": {},
   "source": [
    "## Trials"
   ]
  },
  {
   "cell_type": "code",
   "execution_count": 22,
   "metadata": {},
   "outputs": [
    {
     "name": "stdout",
     "output_type": "stream",
     "text": [
      "red\n",
      "This vehicle is red\n"
     ]
    }
   ],
   "source": [
    "class Vehicle:\n",
    "    def __init__(self, color):\n",
    "    \n",
    "        self._color = color\n",
    "    \n",
    "    def getColor(self):\n",
    "        return self._color\n",
    "\n",
    "    def __str__(self):\n",
    "        return f\"This vehicle is {self._color}\"\n",
    "vehicle = Vehicle(\"red\")\n",
    "\n",
    "print(vehicle.getColor())  \n",
    "print(vehicle) \n"
   ]
  }
 ],
 "metadata": {
  "kernelspec": {
   "display_name": "Python 3",
   "language": "python",
   "name": "python3"
  },
  "language_info": {
   "codemirror_mode": {
    "name": "ipython",
    "version": 3
   },
   "file_extension": ".py",
   "mimetype": "text/x-python",
   "name": "python",
   "nbconvert_exporter": "python",
   "pygments_lexer": "ipython3",
   "version": "3.12.7"
  }
 },
 "nbformat": 4,
 "nbformat_minor": 2
}
