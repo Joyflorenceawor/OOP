{
 "cells": [
  {
   "cell_type": "markdown",
   "metadata": {},
   "source": [
    "## Bankaccount"
   ]
  },
  {
   "cell_type": "code",
   "execution_count": 3,
   "metadata": {},
   "outputs": [
    {
     "name": "stdout",
     "output_type": "stream",
     "text": [
      "Deposited: $50. New balance: $150\n",
      "Withdrew: $20. New balance: $130\n"
     ]
    }
   ],
   "source": [
    "class BankAccount:\n",
    "    def __init__(self, balance=0):\n",
    "        self.balance = balance\n",
    "\n",
    "    # Method to deposit money\n",
    "    def deposit(self, amount):\n",
    "        if amount <= 0:\n",
    "            raise ValueError(\"Deposit amount must be positive.\")\n",
    "        self.balance += amount\n",
    "        print(f\"Deposited: ${amount}. New balance: ${self.balance}\")\n",
    "\n",
    "    # Method to withdraw money\n",
    "    def withdraw(self, amount):\n",
    "        if amount > self.balance:\n",
    "            raise ValueError(\"Insufficient funds.\")\n",
    "        self.balance -= amount\n",
    "        print(f\"Withdrew: ${amount}. New balance: ${self.balance}\")\n",
    "\n",
    "# Example usage with exception handling\n",
    "try:\n",
    "    account = BankAccount(100)  # Initialize account with $100 balance\n",
    "    account.deposit(50) \n",
    "except ValueError as e:\n",
    "    print(f\"Transaction error: {e}\")\n",
    "\n",
    "# Another try-except block for the withdraw method\n",
    "try:\n",
    "    account.withdraw(20)  # This will raise an exception for insufficient funds\n",
    "except ValueError as e:\n",
    "    print(f\"Transaction error: {e}\")\n"
   ]
  },
  {
   "cell_type": "code",
   "execution_count": null,
   "metadata": {},
   "outputs": [],
   "source": [
    "class StudentManagement:\n",
    "    def __init__(self):\n",
    "        self.students = []  # List to store students\n",
    "\n",
    "    def add_student(self, student_id, name, age):\n",
    "        # Check if student with the same ID exists\n",
    "        for student in self.students:\n",
    "            if student['student_id'] == student_id:\n",
    "                print(f\"Error: Student ID {student_id} already exists.\")\n",
    "                return\n",
    "        # Add new student to the list\n",
    "        self.students.append({\"student_id\": student_id, \"name\": name, \"age\": age})\n",
    "        print(f\"Student {name} (ID: {student_id}) successfully added.\")\n",
    "\n",
    "    def update_student(self, student_id, name=None, age=None):\n",
    "        # Find the student by ID and update their info\n",
    "        for student in self.students:\n",
    "            if student['student_id'] == student_id:\n",
    "                if name:\n",
    "                    student['name'] = name\n",
    "                if age:\n",
    "                    student['age'] = age\n",
    "                print(f\"Student ID {student_id} updated successfully.\")\n",
    "                return\n",
    "        print(f\"Error: Student ID {student_id} not found.\")\n",
    "\n",
    "    def delete_student(self, student_id):\n",
    "        # Find and delete the student by ID\n",
    "        for student in self.students:\n",
    "            if student['student_id'] == student_id:\n",
    "                self.students.remove(student)\n",
    "                print(f\"Student ID {student_id} deleted successfully.\")\n",
    "                return\n",
    "        print(f\"Error: Student ID {student_id} not found.\")\n",
    "\n",
    "    def display_students(self):\n",
    "        if not self.students:\n",
    "            print(\"No students to display.\")\n",
    "        else:\n",
    "            print(\"Student List:\")\n",
    "            for student in self.students:\n",
    "                print(f\"ID: {student['student_id']}, Name: {student['name']}, Age: {student['age']}\")\n",
    "            print(\"-\" * 30)\n",
    "\n",
    "# Example usage\n",
    "manager = StudentManagement()\n",
    "\n",
    "# Add students\n",
    "manager.add_student(1, \"Alice\", 20)\n",
    "manager.add_student(2, \"Bob\", 22)\n",
    "manager.add_student(1, \"Charlie\", 23)  # Error: ID already exists\n",
    "\n",
    "# Display students\n",
    "manager.display_students()\n",
    "\n",
    "# Update a student\n",
    "manager.update_student(1, age=21)  # Update Alice's age\n",
    "manager.update_student(3, name=\"Daisy\")  # Error: Student ID not found\n",
    "\n",
    "# Delete a student\n",
    "manager.delete_student(2)  # Delete Bob\n",
    "manager.delete_student(3)  # Error: Student ID not found\n",
    "\n",
    "# Display final list of students\n",
    "manager.display_students()\n"
   ]
  }
 ],
 "metadata": {
  "kernelspec": {
   "display_name": "Python 3",
   "language": "python",
   "name": "python3"
  },
  "language_info": {
   "codemirror_mode": {
    "name": "ipython",
    "version": 3
   },
   "file_extension": ".py",
   "mimetype": "text/x-python",
   "name": "python",
   "nbconvert_exporter": "python",
   "pygments_lexer": "ipython3",
   "version": "3.12.7"
  }
 },
 "nbformat": 4,
 "nbformat_minor": 2
}
