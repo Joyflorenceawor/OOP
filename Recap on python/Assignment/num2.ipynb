{
 "cells": [
  {
   "cell_type": "code",
   "execution_count": 11,
   "metadata": {},
   "outputs": [
    {
     "name": "stdout",
     "output_type": "stream",
     "text": [
      "Car Information:\n",
      "Brand: Toyota\n",
      "Model: Corolla\n",
      "Year: 2020\n",
      "Mileage: 15000\n",
      "------------------------------\n",
      "After driving 100km.\n",
      "Car Information:\n",
      "Brand: Toyota\n",
      "Model: Corolla\n",
      "Year: 2020\n",
      "Mileage: 15100\n",
      "------------------------------\n"
     ]
    }
   ],
   "source": [
    "class Car:\n",
    "    def __init__(self, brand, model, year, mileage):\n",
    "        self.brand = brand\n",
    "        self.model = model\n",
    "        self.year = year\n",
    "        self.mileage = mileage\n",
    "\n",
    "    def display_info(self):\n",
    "        print(f\"Car Information:\\nBrand: {self.brand}\\nModel: {self.model}\\nYear: {self.year}\\nMileage: {self.mileage}\")\n",
    "       \n",
    "        print(\"-\" * 30)\n",
    "\n",
    "    def drive(self, distance):\n",
    "        self.mileage += distance\n",
    "        print(f\"After driving {distance}km.\")\n",
    "\n",
    "car1 = Car(\"Toyota\", \"Corolla\", 2020, 15000)\n",
    "\n",
    "car1.display_info()\n",
    "\n",
    "car1.drive(100)\n",
    "\n",
    "car1.display_info()\n"
   ]
  }
 ],
 "metadata": {
  "kernelspec": {
   "display_name": "Python 3",
   "language": "python",
   "name": "python3"
  },
  "language_info": {
   "codemirror_mode": {
    "name": "ipython",
    "version": 3
   },
   "file_extension": ".py",
   "mimetype": "text/x-python",
   "name": "python",
   "nbconvert_exporter": "python",
   "pygments_lexer": "ipython3",
   "version": "3.12.6"
  }
 },
 "nbformat": 4,
 "nbformat_minor": 2
}
