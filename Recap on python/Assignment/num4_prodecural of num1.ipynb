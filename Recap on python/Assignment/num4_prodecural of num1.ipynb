{
 "cells": [
  {
   "cell_type": "code",
   "execution_count": 3,
   "metadata": {},
   "outputs": [
    {
     "name": "stdout",
     "output_type": "stream",
     "text": [
      "Car Information:\n",
      "Brand: Toyota\n",
      "Model: Corolla\n",
      "Year: 2015\n",
      "Mileage: 60000 miles\n",
      "------------------------------\n",
      "Car Information:\n",
      "Brand: Honda\n",
      "Model: Civic\n",
      "Year: 2018\n",
      "Mileage: 40000 miles\n",
      "------------------------------\n",
      "Car Information:\n",
      "Brand: Ford\n",
      "Model: Focus\n",
      "Year: 2020\n",
      "Mileage: 25000 miles\n",
      "------------------------------\n"
     ]
    }
   ],
   "source": [
    "def Car(brand, model, year, mileage):\n",
    "    return {\n",
    "        \"brand\": brand,\n",
    "        \"model\": model,\n",
    "        \"year\": year,\n",
    "        \"mileage\": mileage\n",
    "    }\n",
    "\n",
    "def display_info(car):\n",
    "    print(f\"Car Information:\\nBrand: {car['brand']}\\nModel: {car['model']}\\nYear: {car['year']}\\nMileage: {car['mileage']} miles\") # using formatted string literal\n",
    "    print(\"-\" * 30)\n",
    "\n",
    "\n",
    "car1 = Car(\"Toyota\", \"Corolla\", 2015, 60000)\n",
    "car2 = Car(\"Honda\", \"Civic\", 2018, 40000)\n",
    "car3 = Car(\"Ford\", \"Focus\", 2020, 25000)\n",
    "\n",
    "display_info(car1)\n",
    "display_info(car2)\n",
    "display_info(car3)\n",
    "\n",
    "\n"
   ]
  },
  {
   "cell_type": "markdown",
   "metadata": {},
   "source": [
    "1.Structure & Organization:\n",
    "Procedural Approach: Functions and data are separated. We store car attributes in a data structure (like a dictionary), and functions operate on that data. \n",
    "OOP Approach: In the OOP implementation, data (attributes) and behaviors (methods) are encapsulated within a class.\n",
    "\n",
    "\n",
    "2.Modularity:\n",
    "Procedural: Functions are separate from data, so there is no direct connection between the data (attributes) and the functions that operate on it. \n",
    "OOP: Modularity is naturally achieved by encapsulating data and functions within a class. \n",
    "\n",
    "3.Reusability is limited to individual functions in procedural. Extending functionality requires modifying or adding functions that manipulate data, often leading to code duplication.\n",
    "OOP: classes and objects provide better reusability.\n",
    "\n",
    "4.Maintainability:\n",
    "Procedural: Since functions and data are separated, maintaining the code can be more complex.\n",
    "OOP: OOP promotes maintainability because changes to attributes or methods can be made within a single class."
   ]
  },
  {
   "cell_type": "markdown",
   "metadata": {},
   "source": [
    "\n",
    "\n",
    "1.Modularity:\n",
    "OOP: In OOP, programs are divided into smaller, self-contained units called classes and objects. Each class represents a blueprint for objects, \n",
    "Procedural Programming: In procedural programming, the program is written as a sequence of procedures or functions.\n",
    "\n",
    "Reusability:\n",
    "OOP: OOP promotes reusability through inheritance and polymorphism.  For example, an ElectricCar class can inherit from a Car class,.\n",
    "Procedural Programming: In procedural programming, code reusability is typically limited to copying and pasting functions across programs. Although functions can be reused, it lacks the structure and extensibility that OOP provides through inheritance and object hierarchies.\n",
    "\n",
    "Maintainability:\n",
    "OOP: OOP makes programs more maintainable by following the principles of encapsulation and abstraction. \n",
    "Procedural Programming: In procedural programming, all data and functions are often interconnected. Changing one part of the code might have unintended consequences.\n"
   ]
  }
 ],
 "metadata": {
  "kernelspec": {
   "display_name": "Python 3",
   "language": "python",
   "name": "python3"
  },
  "language_info": {
   "codemirror_mode": {
    "name": "ipython",
    "version": 3
   },
   "file_extension": ".py",
   "mimetype": "text/x-python",
   "name": "python",
   "nbconvert_exporter": "python",
   "pygments_lexer": "ipython3",
   "version": "3.12.6"
  }
 },
 "nbformat": 4,
 "nbformat_minor": 2
}
