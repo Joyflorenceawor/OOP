{
 "cells": [
  {
   "cell_type": "code",
   "execution_count": 5,
   "metadata": {},
   "outputs": [
    {
     "name": "stdout",
     "output_type": "stream",
     "text": [
      "Car Information:\n",
      "Brand: Toyota\n",
      "Model: Corolla\n",
      "Year: 2020\n",
      "Mileage: 15000\n",
      "------------------------------\n",
      "Car Information:\n",
      "Brand: Honda\n",
      "Model: Civic\n",
      "Year: 2018\n",
      "Mileage: 40000\n",
      "------------------------------\n",
      "Car Information:\n",
      "Brand: Ford\n",
      "Model: Focus\n",
      "Year: 2019\n",
      "Mileage: 25000\n",
      "------------------------------\n"
     ]
    }
   ],
   "source": [
    "class Car:\n",
    "    def __init__(self, brand, model, year, mileage):\n",
    "        self.brand = brand\n",
    "        self.model = model\n",
    "        self.year = year\n",
    "        self.mileage = mileage\n",
    "\n",
    "    def display_info(self):\n",
    "        print(f\"Car Information:\\nBrand: {self.brand}\\nModel: {self.model}\\nYear: {self.year}\\nMileage: {self.mileage}\")\n",
    "        print(\"-\" * 30)\n",
    "\n",
    "car1 = Car(\"Toyota\", \"Corolla\", 2020, 15000)\n",
    "car2 = Car(\"Honda\", \"Civic\", 2018, 40000)\n",
    "car3 = Car(\"Ford\", \"Focus\", 2019, 25000)\n",
    "\n",
    "car1.display_info()\n",
    "car2.display_info()\n",
    "car3.display_info()\n"
   ]
  }
 ],
 "metadata": {
  "kernelspec": {
   "display_name": "Python 3",
   "language": "python",
   "name": "python3"
  },
  "language_info": {
   "codemirror_mode": {
    "name": "ipython",
    "version": 3
   },
   "file_extension": ".py",
   "mimetype": "text/x-python",
   "name": "python",
   "nbconvert_exporter": "python",
   "pygments_lexer": "ipython3",
   "version": "3.12.6"
  }
 },
 "nbformat": 4,
 "nbformat_minor": 2
}
