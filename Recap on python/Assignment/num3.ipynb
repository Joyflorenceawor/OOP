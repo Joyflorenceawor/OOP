{
 "cells": [
  {
   "cell_type": "code",
   "execution_count": 9,
   "metadata": {},
   "outputs": [
    {
     "name": "stdout",
     "output_type": "stream",
     "text": [
      "Car Information:\n",
      "Brand: Tesla\n",
      "Model: Model S\n",
      "Year: 2022\n",
      "Mileage: 15000 miles\n",
      "------------------------------\n",
      "Battery Capacity: 100 kWh\n",
      "Charge Level: 50%\n",
      "------------------------------\n",
      "Currently Charging... Charge level is now at 80%.\n",
      "Car Information:\n",
      "Brand: Tesla\n",
      "Model: Model S\n",
      "Year: 2022\n",
      "Mileage: 15000 miles\n",
      "------------------------------\n",
      "Battery Capacity: 100 kWh\n",
      "Charge Level: 80%\n",
      "------------------------------\n"
     ]
    }
   ],
   "source": [
    "\n",
    "class Car:\n",
    "    def __init__(self, brand, model, year, mileage):\n",
    "        self.brand = brand\n",
    "        self.model = model\n",
    "        self.year = year\n",
    "        self.mileage = mileage\n",
    "\n",
    "    def display_info(self):\n",
    "        print(f\"Car Information:\\nBrand: {self.brand}\\nModel: {self.model}\\nYear: {self.year}\\nMileage: {self.mileage} miles\")\n",
    "        print(\"-\" * 30)\n",
    "\n",
    "class ElectricCar(Car):\n",
    "    def __init__(self, brand, model, year, mileage, battery_capacity, charge_level):\n",
    "        super().__init__(brand, model, year, mileage)  \n",
    "        self.battery_capacity = battery_capacity  \n",
    "        self.charge_level = charge_level  \n",
    "\n",
    "    def charge(self, amount):\n",
    "        self.charge_level += amount\n",
    "        if self.charge_level > 100:  \n",
    "            self.charge_level = 100\n",
    "        print(f\"Currently Charging... Charge level is now at {self.charge_level}%.\")\n",
    "\n",
    "    def display_info(self):\n",
    "        super().display_info()  \n",
    "        print(f\"Battery Capacity: {self.battery_capacity} kWh\\nCharge Level: {self.charge_level}%\")\n",
    "        print(\"-\" * 30)\n",
    "\n",
    "\n",
    "electric_car = ElectricCar(\"Tesla\", \"Model S\", 2022, 15000, 100, 50)\n",
    "\n",
    "electric_car.display_info()\n",
    "\n",
    "electric_car.charge(30)\n",
    "\n",
    "electric_car.display_info()\n"
   ]
  },
  {
   "cell_type": "markdown",
   "metadata": {},
   "source": [
    "How ElectricCar Demonstrates OOP Principles:\n",
    "Modularity: The ElectricCar class represents a distinct module that focuses on electric cars' specific functionality (like battery and charging), while still inheriting the core functionality from  Car class.\n",
    "\n",
    "Reusability: The ElectricCar class reuses the existing functionality from the Car class through inheritance, avoiding duplicating common features like brand, model, and display_info() while adding specific functionality for electric cars.\n",
    "\n",
    "Maintainability: If changes are required in the general Car functionality, those updates will automatically apply to the ElectricCar class without changing the electric-specific functionality. "
   ]
  }
 ],
 "metadata": {
  "kernelspec": {
   "display_name": "Python 3",
   "language": "python",
   "name": "python3"
  },
  "language_info": {
   "codemirror_mode": {
    "name": "ipython",
    "version": 3
   },
   "file_extension": ".py",
   "mimetype": "text/x-python",
   "name": "python",
   "nbconvert_exporter": "python",
   "pygments_lexer": "ipython3",
   "version": "3.12.7"
  }
 },
 "nbformat": 4,
 "nbformat_minor": 2
}
